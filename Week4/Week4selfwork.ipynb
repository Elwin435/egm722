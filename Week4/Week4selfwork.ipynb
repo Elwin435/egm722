{
 "cells": [
  {
   "cell_type": "code",
   "execution_count": null,
   "id": "2edc2960-4c8d-43ac-8c98-95a31ae2f7d9",
   "metadata": {},
   "outputs": [],
   "source": [
    "import numpy as np\n",
    "import rasterio as rio\n",
    "import geopandas as gpd\n",
    "import cartopy.crs as ccrs\n",
    "import matplotlib.pyplot as plt\n",
    "from shapely.ops import unary_union\n",
    "from shapely.geometry.polygon import Polygon\n",
    "from cartopy.feature import ShapelyFeature\n",
    "import matplotlib.patches as mpatches\n"
   ]
  },
  {
   "cell_type": "code",
   "execution_count": null,
   "id": "d3328377-b1a6-4223-a81b-192af9eaeb31",
   "metadata": {},
   "outputs": [],
   "source": [
    "def percentile_stretch(img, pmin=0., pmax=100.):\n",
    "    '''\n",
    "    Stretch image values to the percentile range defined by pmin and pmax.\n",
    "    '''\n",
    "    if not 0 <= pmin < pmax <= 100:\n",
    "        raise ValueError('0 <= pmin < pmax <= 100')\n",
    "    if not img.ndim == 2:\n",
    "        raise ValueError('Image can only have two dimensions (row, column)')\n",
    "\n",
    "    minval = np.percentile(img, pmin)\n",
    "    maxval = np.percentile(img, pmax)\n",
    "\n",
    "    stretched = (img - minval) / (maxval - minval)\n",
    "    stretched[img < minval] = 0\n",
    "    stretched[img > maxval] = 1\n",
    "\n",
    "    return stretched"
   ]
  },
  {
   "cell_type": "code",
   "execution_count": null,
   "id": "dbaf19f3-0372-46eb-808c-f5f9f9f0c70c",
   "metadata": {},
   "outputs": [],
   "source": [
    "def img_display(img, ax, bands, stretch_args=None, **imshow_args):\n",
    "    '''\n",
    "    Display the image with optional stretch parameters for each band.\n",
    "    '''\n",
    "    dispimg = img.copy().astype(np.float32)\n",
    "\n",
    "    for b in range(img.shape[0]):\n",
    "        if stretch_args is None:\n",
    "            dispimg[b] = percentile_stretch(img[b])\n",
    "        else:\n",
    "            dispimg[b] = percentile_stretch(img[b], **stretch_args)\n",
    "\n",
    "    dispimg = dispimg.transpose([1, 2, 0])\n",
    "    handle = ax.imshow(dispimg[:, :, bands], **imshow_args)\n",
    "\n",
    "    return handle, ax"
   ]
  },
  {
   "cell_type": "code",
   "execution_count": null,
   "id": "9fe41da0-0281-4309-b03d-688ec3463def",
   "metadata": {},
   "outputs": [],
   "source": [
    "# Open the satellite image\n",
    "with rio.open('data_files/NI_Mosaic.tif') as dataset:\n",
    "    img = dataset.read()\n",
    "    xmin, ymin, xmax, ymax = dataset.bounds"
   ]
  },
  {
   "cell_type": "code",
   "execution_count": null,
   "id": "404e4800-497c-483c-9461-7ebc7d7343f4",
   "metadata": {},
   "outputs": [],
   "source": [
    "# Load the shapefiles for county boundaries, towns, and cities\n",
    "counties = gpd.read_file('data_files/Counties.shp')\n",
    "towns = gpd.read_file('data_files/towns.shp')\n"
   ]
  },
  {
   "cell_type": "code",
   "execution_count": null,
   "id": "8bb5545b-2091-4ffb-ba66-55bac9010628",
   "metadata": {},
   "outputs": [],
   "source": [
    "# Create a figure and axis object for the map\n",
    "fig, ax = plt.subplots(figsize=(10, 10), dpi=100)\n",
    "ax.set_extent([xmin, xmax, ymin, ymax], crs=ccrs.PlateCarree())"
   ]
  },
  {
   "cell_type": "code",
   "execution_count": null,
   "id": "6dcbf9c3-6319-4a68-9c47-b8d2f3d2bb57",
   "metadata": {},
   "outputs": [],
   "source": [
    "# Add the satellite image\n",
    "img_display(img, ax, bands=[0, 1, 2], stretch_args={'pmin': 2, 'pmax': 98})"
   ]
  },
  {
   "cell_type": "code",
   "execution_count": null,
   "id": "7275bdbc-b2fc-4ea1-9f46-b1049da723b5",
   "metadata": {},
   "outputs": [],
   "source": [
    "# Add the county boundaries\n",
    "counties_feature = ShapelyFeature(counties.geometry, ccrs.PlateCarree(), edgecolor='red', facecolor='none', linewidth=2)\n",
    "ax.add_feature(counties_feature)"
   ]
  },
  {
   "cell_type": "code",
   "execution_count": null,
   "id": "eb0871ad-d100-4c61-9184-b3bd43eefc62",
   "metadata": {},
   "outputs": [],
   "source": []
  }
 ],
 "metadata": {
  "kernelspec": {
   "display_name": "Python 3 (ipykernel)",
   "language": "python",
   "name": "python3"
  },
  "language_info": {
   "codemirror_mode": {
    "name": "ipython",
    "version": 3
   },
   "file_extension": ".py",
   "mimetype": "text/x-python",
   "name": "python",
   "nbconvert_exporter": "python",
   "pygments_lexer": "ipython3",
   "version": "3.13.2"
  }
 },
 "nbformat": 4,
 "nbformat_minor": 5
}
