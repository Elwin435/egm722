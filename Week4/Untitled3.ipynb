{
 "cells": [
  {
   "cell_type": "code",
   "execution_count": null,
   "id": "0a76ca5d-fcee-4443-96ae-66afeab56fce",
   "metadata": {},
   "outputs": [],
   "source": [
    "import numpy as np\n",
    "import rasterio as rio\n",
    "import geopandas as gpd\n",
    "import cartopy.crs as ccrs\n",
    "import matplotlib.pyplot as plt\n",
    "from pyproj import CRS, Transformer\n",
    "from shapely.geometry import Polygon\n",
    "from cartopy.feature import ShapelyFeature"
   ]
  },
  {
   "cell_type": "code",
   "execution_count": null,
   "id": "981ff00b-0373-4043-8f8b-91b53fa137e7",
   "metadata": {},
   "outputs": [],
   "source": [
    "# Function to stretch the image values based on percentiles\n",
    "def percentile_stretch(img, pmin=0., pmax=100.):\n",
    "    '''\n",
    "    Stretch image values to the percentile range defined by pmin and pmax.\n",
    "    '''\n",
    "    if not 0 <= pmin < pmax <= 100:\n",
    "        raise ValueError('0 <= pmin < pmax <= 100')\n",
    "    if not img.ndim == 2:\n",
    "        raise ValueError('Image can only have two dimensions (row, column)')\n",
    "\n",
    "    minval = np.percentile(img, pmin)\n",
    "    maxval = np.percentile(img, pmax)\n",
    "\n",
    "    stretched = (img - minval) / (maxval - minval)\n",
    "    stretched[img < minval] = 0\n",
    "    stretched[img > maxval] = 1\n",
    "\n",
    "    return stretched"
   ]
  },
  {
   "cell_type": "code",
   "execution_count": null,
   "id": "2b5e2225-cc7d-493a-b371-4ae94c8b826b",
   "metadata": {},
   "outputs": [],
   "source": [
    "# Function to display the image with optional stretch parameters for each band\n",
    "def img_display(img, ax, bands, stretch_args=None, **imshow_args):\n",
    "    '''\n",
    "    Display the image with optional stretch parameters for each band.\n",
    "    '''\n",
    "    dispimg = img.copy().astype(np.float32)\n",
    "\n",
    "    for b in range(img.shape[0]):\n",
    "        if stretch_args is None:\n",
    "            dispimg[b] = percentile_stretch(img[b])\n",
    "        else:\n",
    "            dispimg[b] = percentile_stretch(img[b], **stretch_args)\n",
    "\n",
    "    dispimg = dispimg.transpose([1, 2, 0])\n",
    "    handle = ax.imshow(dispimg[:, :, bands], **imshow_args)\n",
    "\n",
    "    return handle, ax"
   ]
  },
  {
   "cell_type": "code",
   "execution_count": null,
   "id": "fc5813f9-c031-457e-8761-e8f56a8f86a3",
   "metadata": {},
   "outputs": [],
   "source": [
    "# Open the satellite image and check its CRS\n",
    "with rio.open('data_files/NI_Mosaic.tif') as dataset:\n",
    "    img = dataset.read()  # Read image\n",
    "    xmin, ymin, xmax, ymax = dataset.bounds  # Get image bounds\n",
    "    crs = dataset.crs  # Get the CRS of the image\n",
    "    print(f\"Image CRS: {crs}\")\n",
    "    print(f\"Image Bounds: xmin: {xmin}, ymin: {ymin}, xmax: {xmax}, ymax: {ymax}\")"
   ]
  },
  {
   "cell_type": "code",
   "execution_count": null,
   "id": "eacfe6c0-e0bd-45d6-861d-c8b875c3030f",
   "metadata": {},
   "outputs": [],
   "source": [
    "# Define the target CRS (geographic coordinates, PlateCarree)\n",
    "target_crs = CRS.from_epsg(4326)  # WGS 84 (latitude/longitude)"
   ]
  },
  {
   "cell_type": "code",
   "execution_count": null,
   "id": "1ba2fe84-9e8f-44c7-8f83-d5f5f6b768aa",
   "metadata": {},
   "outputs": [],
   "source": [
    "# If the current CRS is different, reproject the bounding box coordinates\n",
    "if crs != target_crs:\n",
    "    transformer = Transformer.from_crs(crs, target_crs, always_xy=True)\n",
    "    xmin, ymin = transformer.transform(xmin, ymin)\n",
    "    xmax, ymax = transformer.transform(xmax, ymax)"
   ]
  },
  {
   "cell_type": "code",
   "execution_count": null,
   "id": "c0aae2f6-2ac6-429a-b6a7-59e5977fbb0b",
   "metadata": {},
   "outputs": [],
   "source": [
    "# Check the transformed coordinates\n",
    "print(f\"Reprojected Bounds: xmin: {xmin}, ymin: {ymin}, xmax: {xmax}, ymax: {ymax}\")"
   ]
  },
  {
   "cell_type": "code",
   "execution_count": null,
   "id": "4aa0cbf8-4dda-47fc-9f70-544dce6d8557",
   "metadata": {},
   "outputs": [],
   "source": [
    "# Load the shapefiles for county boundaries, towns, and the NI outline\n",
    "counties = gpd.read_file('data_files/counties.shp')\n",
    "towns = gpd.read_file('data_files/towns.shp')\n",
    "boundaries = gpd.read_file('data_files/NI_outline.shp')\n"
   ]
  },
  {
   "cell_type": "code",
   "execution_count": null,
   "id": "bda9cb4f-347a-4aab-8fe9-e516d7f472b3",
   "metadata": {},
   "outputs": [],
   "source": [
    "# Create the figure and axis objects with Cartopy projection\n",
    "fig, ax = plt.subplots(figsize=(10, 10), dpi=100, subplot_kw={'projection': ccrs.PlateCarree()})\n"
   ]
  },
  {
   "cell_type": "code",
   "execution_count": null,
   "id": "f58a30de-c86a-47ac-b952-352cc32de566",
   "metadata": {},
   "outputs": [],
   "source": [
    "# Set the extent of the map using the reprojected bounding box values\n",
    "ax.set_extent([xmin, xmax, ymin, ymax], crs=ccrs.PlateCarree())"
   ]
  },
  {
   "cell_type": "code",
   "execution_count": null,
   "id": "eaa174f8-4e17-4ea8-9dd5-ac0b2d6dc5e9",
   "metadata": {},
   "outputs": [],
   "source": [
    "# Add the NI outline (shapefile)\n",
    "boundaries_feature = ShapelyFeature(boundaries.geometry, ccrs.PlateCarree(), edgecolor='black', facecolor='none', linewidth=2)\n",
    "ax.add_feature(boundaries_feature)\n"
   ]
  },
  {
   "cell_type": "code",
   "execution_count": null,
   "id": "5d7a7107-2055-4477-add2-5539c8e30bf0",
   "metadata": {},
   "outputs": [],
   "source": [
    "# Add county boundaries\n",
    "counties_feature = ShapelyFeature(counties.geometry, ccrs.PlateCarree(), edgecolor='red', facecolor='none', linewidth=2)\n",
    "ax.add_feature(counties_feature)\n"
   ]
  },
  {
   "cell_type": "code",
   "execution_count": null,
   "id": "36bb70ee-4991-4ad9-ba63-e6174f9c1fec",
   "metadata": {},
   "outputs": [],
   "source": [
    "# Add town points (blue squares)\n",
    "ax.scatter(towns.geometry.x, towns.geometry.y, color='blue', s=100, label='Town', marker='s')"
   ]
  },
  {
   "cell_type": "code",
   "execution_count": null,
   "id": "8d79b732-d8f2-4a90-9c1a-a8b57287698f",
   "metadata": {},
   "outputs": [],
   "source": [
    "# Add gridlines for reference\n",
    "ax.gridlines(draw_labels=True)\n"
   ]
  },
  {
   "cell_type": "code",
   "execution_count": null,
   "id": "cb3bb816-ad0c-4803-bb84-200f1e2bf7ac",
   "metadata": {},
   "outputs": [],
   "source": [
    "# Add a legend\n",
    "ax.legend(loc='upper left')\n"
   ]
  },
  {
   "cell_type": "code",
   "execution_count": null,
   "id": "1829c859-df66-41e5-a200-0ab1e6b8367b",
   "metadata": {},
   "outputs": [],
   "source": [
    "# Ensure the image is being rendered properly\n",
    "if img is not None:\n",
    "    # Display the satellite image\n",
    "    img_display(img, ax, bands=[0, 1, 2], stretch_args={'pmin': 2, 'pmax': 98})\n"
   ]
  },
  {
   "cell_type": "code",
   "execution_count": null,
   "id": "445d2d83-0e60-42c5-9ed6-a42db66d9ef6",
   "metadata": {},
   "outputs": [],
   "source": [
    "# Save the figure to a file before showing it (to ensure the content is saved)\n",
    "plt.savefig('output_map.png', dpi=300, transparent=True)"
   ]
  },
  {
   "cell_type": "code",
   "execution_count": null,
   "id": "fde2822b-0a1e-43bb-95b3-f2135d4b2ddf",
   "metadata": {},
   "outputs": [],
   "source": [
    "# Show the map\n",
    "plt.show()"
   ]
  },
  {
   "cell_type": "code",
   "execution_count": null,
   "id": "8087e4a3-37f7-4e44-9144-3f31e1a24b14",
   "metadata": {},
   "outputs": [],
   "source": [
    "fig"
   ]
  }
 ],
 "metadata": {
  "kernelspec": {
   "display_name": "Python 3 (ipykernel)",
   "language": "python",
   "name": "python3"
  },
  "language_info": {
   "codemirror_mode": {
    "name": "ipython",
    "version": 3
   },
   "file_extension": ".py",
   "mimetype": "text/x-python",
   "name": "python",
   "nbconvert_exporter": "python",
   "pygments_lexer": "ipython3",
   "version": "3.13.2"
  }
 },
 "nbformat": 4,
 "nbformat_minor": 5
}
