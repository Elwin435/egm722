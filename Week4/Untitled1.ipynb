{
 "cells": [
  {
   "cell_type": "code",
   "execution_count": null,
   "id": "6aadb190-deeb-4feb-9911-0495337ec435",
   "metadata": {},
   "outputs": [],
   "source": [
    "import numpy as np\n",
    "import rasterio as rio\n",
    "import geopandas as gpd\n",
    "import cartopy.crs as ccrs\n",
    "import matplotlib.pyplot as plt\n",
    "from pyproj import CRS, Transformer\n",
    "from shapely.geometry import Polygon\n",
    "from cartopy.feature import ShapelyFeature\n",
    "import matplotlib.patches as mpatches"
   ]
  },
  {
   "cell_type": "code",
   "execution_count": null,
   "id": "139464aa-7d0b-421d-a6ea-4f3372b004c9",
   "metadata": {},
   "outputs": [],
   "source": [
    "# Function to stretch the image values based on percentiles\n",
    "def percentile_stretch(img, pmin=0., pmax=100.):\n",
    "    '''\n",
    "    Stretch image values to the percentile range defined by pmin and pmax.\n",
    "    '''\n",
    "    if not 0 <= pmin < pmax <= 100:\n",
    "        raise ValueError('0 <= pmin < pmax <= 100')\n",
    "    if not img.ndim == 2:\n",
    "        raise ValueError('Image can only have two dimensions (row, column)')\n",
    "\n",
    "    minval = np.percentile(img, pmin)\n",
    "    maxval = np.percentile(img, pmax)\n",
    "\n",
    "    stretched = (img - minval) / (maxval - minval)\n",
    "    stretched[img < minval] = 0\n",
    "    stretched[img > maxval] = 1\n",
    "\n",
    "    return stretched"
   ]
  },
  {
   "cell_type": "code",
   "execution_count": null,
   "id": "52e41177-1a54-4f45-a759-2fc63c6a1333",
   "metadata": {},
   "outputs": [],
   "source": [
    "# Function to display the image with optional stretch parameters for each band\n",
    "def img_display(img, ax, bands, stretch_args=None, **imshow_args):\n",
    "    '''\n",
    "    Display the image with optional stretch parameters for each band.\n",
    "    '''\n",
    "    dispimg = img.copy().astype(np.float32)\n",
    "\n",
    "    for b in range(img.shape[0]):\n",
    "        if stretch_args is None:\n",
    "            dispimg[b] = percentile_stretch(img[b])\n",
    "        else:\n",
    "            dispimg[b] = percentile_stretch(img[b], **stretch_args)\n",
    "\n",
    "    dispimg = dispimg.transpose([1, 2, 0])\n",
    "    handle = ax.imshow(dispimg[:, :, bands], **imshow_args)\n",
    "\n",
    "    return handle, ax"
   ]
  },
  {
   "cell_type": "code",
   "execution_count": null,
   "id": "2977bd1d-379b-4112-b3e3-809f0355c02f",
   "metadata": {},
   "outputs": [],
   "source": [
    "# Open the satellite image and check its CRS\n",
    "with rio.open('data_files/NI_Mosaic.tif') as dataset:\n",
    "    img = dataset.read()  # Read image\n",
    "    xmin, ymin, xmax, ymax = dataset.bounds  # Get image bounds\n",
    "    crs = dataset.crs  # Get the CRS of the image\n",
    "    print(f\"Image CRS: {crs}\")\n",
    "    print(f\"Image Bounds: xmin: {xmin}, ymin: {ymin}, xmax: {xmax}, ymax: {ymax}\")"
   ]
  },
  {
   "cell_type": "code",
   "execution_count": null,
   "id": "5d70d208-ec0f-4323-8a2c-dd0645155673",
   "metadata": {},
   "outputs": [],
   "source": [
    "# Define the target CRS (geographic coordinates, PlateCarree)\n",
    "target_crs = CRS.from_epsg(4326)  # WGS 84 (latitude/longitude)\n"
   ]
  },
  {
   "cell_type": "code",
   "execution_count": null,
   "id": "d77fc3fd-b852-4f3f-a2da-3142e33812ed",
   "metadata": {},
   "outputs": [],
   "source": [
    "# If the current CRS is different, reproject the bounding box coordinates\n",
    "if crs != target_crs:\n",
    "    transformer = Transformer.from_crs(crs, target_crs, always_xy=True)\n",
    "    xmin, ymin = transformer.transform(xmin, ymin)\n",
    "    xmax, ymax = transformer.transform(xmax, ymax)"
   ]
  },
  {
   "cell_type": "code",
   "execution_count": null,
   "id": "900e7361-bec5-4d33-a02c-d899e5c45efe",
   "metadata": {},
   "outputs": [],
   "source": [
    "# Check the transformed coordinates\n",
    "print(f\"Reprojected Bounds: xmin: {xmin}, ymin: {ymin}, xmax: {xmax}, ymax: {ymax}\")"
   ]
  },
  {
   "cell_type": "code",
   "execution_count": null,
   "id": "e3fecd8c-a802-46a3-be70-e455621096ff",
   "metadata": {},
   "outputs": [],
   "source": [
    "# Load the shapefiles for county boundaries, towns, and the NI outline\n",
    "counties = gpd.read_file('data_files/counties.shp')\n",
    "towns = gpd.read_file('data_files/towns.shp')\n",
    "boundaries = gpd.read_file('data_files/NI_outline.shp')\n"
   ]
  },
  {
   "cell_type": "code",
   "execution_count": null,
   "id": "116ca52a-539c-45fb-80ba-bb4ea0523011",
   "metadata": {},
   "outputs": [],
   "source": [
    "# Create the figure and axis objects with Cartopy projection\n",
    "fig, ax = plt.subplots(figsize=(10, 10), dpi=100, subplot_kw={'projection': ccrs.PlateCarree()})"
   ]
  },
  {
   "cell_type": "code",
   "execution_count": null,
   "id": "c5482deb-9ea8-4b0c-bae1-f43cbc78d81f",
   "metadata": {},
   "outputs": [],
   "source": [
    "# Set the extent of the map using the reprojected bounding box values\n",
    "ax.set_extent([xmin, xmax, ymin, ymax], crs=ccrs.PlateCarree())\n"
   ]
  },
  {
   "cell_type": "code",
   "execution_count": null,
   "id": "ab2103fa-a114-4d9a-86fc-400aa4747ee4",
   "metadata": {},
   "outputs": [],
   "source": [
    "# Add the NI outline (shapefile)\n",
    "boundaries_feature = ShapelyFeature(boundaries.geometry, ccrs.PlateCarree(), edgecolor='black', facecolor='none', linewidth=2)\n",
    "ax.add_feature(boundaries_feature)\n"
   ]
  },
  {
   "cell_type": "code",
   "execution_count": null,
   "id": "3342e234-5675-49f6-a143-abdc1d0d5a43",
   "metadata": {},
   "outputs": [],
   "source": [
    "# Add county boundaries\n",
    "counties_feature = ShapelyFeature(counties.geometry, ccrs.PlateCarree(), edgecolor='red', facecolor='none', linewidth=2)\n",
    "ax.add_feature(counties_feature)"
   ]
  },
  {
   "cell_type": "code",
   "execution_count": null,
   "id": "fb65e37d-a6c2-49fc-a816-8a280cdc52ef",
   "metadata": {},
   "outputs": [],
   "source": [
    "# Add town points (blue squares)\n",
    "ax.scatter(towns.geometry.x, towns.geometry.y, color='blue', s=100, label='Town', marker='s')\n"
   ]
  },
  {
   "cell_type": "code",
   "execution_count": null,
   "id": "b59bad4d-6511-4c00-9e9e-1c2553908faa",
   "metadata": {},
   "outputs": [],
   "source": [
    "# Add gridlines for reference\n",
    "ax.gridlines(draw_labels=True)"
   ]
  },
  {
   "cell_type": "code",
   "execution_count": null,
   "id": "ee946530-cb51-456e-8f84-57c331ef2cf9",
   "metadata": {},
   "outputs": [],
   "source": [
    "# Add a legend\n",
    "ax.legend(loc='upper left')"
   ]
  },
  {
   "cell_type": "code",
   "execution_count": null,
   "id": "9a00af37-c90d-4de8-bc9b-7665c33b51f5",
   "metadata": {},
   "outputs": [],
   "source": [
    "# Check if the image is visible\n",
    "if img is not None:\n",
    "    # Display the satellite image\n",
    "    img_display(img, ax, bands=[0, 1, 2], stretch_args={'pmin': 2, 'pmax': 98})"
   ]
  },
  {
   "cell_type": "code",
   "execution_count": null,
   "id": "5240ee4f-a04b-4742-a010-87343d9b20b0",
   "metadata": {},
   "outputs": [],
   "source": [
    "# Show the map\n",
    "plt.savefig('output_map.png', dpi=300)\n",
    "plt.show()"
   ]
  },
  {
   "cell_type": "code",
   "execution_count": null,
   "id": "0834e9ca-142f-4b0f-8e0d-c9cb3b70d014",
   "metadata": {},
   "outputs": [],
   "source": [
    "fig"
   ]
  },
  {
   "cell_type": "code",
   "execution_count": null,
   "id": "032ac83f-5fa5-41af-84d9-21e854dafd5e",
   "metadata": {},
   "outputs": [],
   "source": [
    "# Save the map as a PNG file with 300 DPI\n",
    "plt.savefig('output_map.png', dpi=300)"
   ]
  },
  {
   "cell_type": "code",
   "execution_count": null,
   "id": "4fd3d8cd-6188-4811-a8bd-ffa2992eb842",
   "metadata": {},
   "outputs": [],
   "source": []
  }
 ],
 "metadata": {
  "kernelspec": {
   "display_name": "Python 3 (ipykernel)",
   "language": "python",
   "name": "python3"
  },
  "language_info": {
   "codemirror_mode": {
    "name": "ipython",
    "version": 3
   },
   "file_extension": ".py",
   "mimetype": "text/x-python",
   "name": "python",
   "nbconvert_exporter": "python",
   "pygments_lexer": "ipython3",
   "version": "3.13.2"
  }
 },
 "nbformat": 4,
 "nbformat_minor": 5
}
