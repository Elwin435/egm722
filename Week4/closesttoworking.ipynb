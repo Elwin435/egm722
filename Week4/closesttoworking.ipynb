{
 "cells": [
  {
   "cell_type": "code",
   "execution_count": null,
   "id": "07505e71-a647-4d4c-be10-d5fc762e6f49",
   "metadata": {},
   "outputs": [],
   "source": [
    "import numpy as np\n",
    "import rasterio as rio\n",
    "import geopandas as gpd\n",
    "import cartopy.crs as ccrs\n",
    "import matplotlib.pyplot as plt\n",
    "from shapely.ops import unary_union\n",
    "from shapely.geometry.polygon import Polygon\n",
    "from cartopy.feature import ShapelyFeature\n",
    "import matplotlib.patches as mpatches"
   ]
  },
  {
   "cell_type": "code",
   "execution_count": null,
   "id": "e98db3ff-5d22-48f2-a1c2-24ed942b3835",
   "metadata": {},
   "outputs": [],
   "source": [
    "def percentile_stretch(img, pmin=0., pmax=100.):\n",
    "    '''\n",
    "    Stretch image values to the percentile range defined by pmin and pmax.\n",
    "    '''\n",
    "    if not 0 <= pmin < pmax <= 100:\n",
    "        raise ValueError('0 <= pmin < pmax <= 100')\n",
    "    if not img.ndim == 2:\n",
    "        raise ValueError('Image can only have two dimensions (row, column)')\n",
    "\n",
    "    minval = np.percentile(img, pmin)\n",
    "    maxval = np.percentile(img, pmax)\n",
    "\n",
    "    stretched = (img - minval) / (maxval - minval)\n",
    "    stretched[img < minval] = 0\n",
    "    stretched[img > maxval] = 1\n",
    "\n",
    "    return stretched"
   ]
  },
  {
   "cell_type": "code",
   "execution_count": null,
   "id": "f41fde85-e118-454f-9929-d4bf2cfdb9df",
   "metadata": {},
   "outputs": [],
   "source": [
    "def img_display(img, ax, bands, stretch_args=None, **imshow_args):\n",
    "    '''\n",
    "    Display the image with optional stretch parameters for each band.\n",
    "    '''\n",
    "    dispimg = img.copy().astype(np.float32)  # Copy image and cast to float32\n",
    "\n",
    "    # Apply percentile stretch for each band\n",
    "    for b in range(img.shape[0]):\n",
    "        if stretch_args is None:\n",
    "            dispimg[b] = percentile_stretch(img[b])\n",
    "        else:\n",
    "            dispimg[b] = percentile_stretch(img[b], **stretch_args)\n",
    "\n",
    "    # Reorder indices and display the image\n",
    "    dispimg = dispimg.transpose([1, 2, 0])\n",
    "    handle = ax.imshow(dispimg[:, :, bands], **imshow_args)\n",
    "\n",
    "    return handle, ax"
   ]
  },
  {
   "cell_type": "code",
   "execution_count": null,
   "id": "9e12e35d-46b9-4d96-8bc9-a8484c657669",
   "metadata": {},
   "outputs": [],
   "source": [
    "# Open the satellite image\n",
    "with rio.open('data_files/NI_Mosaic.tif') as dataset:\n",
    "    img = dataset.read()\n",
    "    xmin, ymin, xmax, ymax = dataset.bounds"
   ]
  },
  {
   "cell_type": "code",
   "execution_count": null,
   "id": "4b375952-b771-4a47-b04e-2e5a0d095108",
   "metadata": {},
   "outputs": [],
   "source": [
    "# Load the shapefiles for county boundaries and towns\n",
    "counties = gpd.read_file('data_files/counties.shp')\n",
    "towns = gpd.read_file('data_files/towns.shp')\n",
    "boundaries = gpd.read_file('data_files/NI_outline.shp')\n"
   ]
  },
  {
   "cell_type": "code",
   "execution_count": null,
   "id": "440a364d-a62a-4b51-bd8f-34f34f3252b0",
   "metadata": {},
   "outputs": [],
   "source": [
    "# Check the bounds to ensure they're valid\n",
    "print(\"Image Bounds:\")\n",
    "print(f\"xmin: {xmin}, ymin: {ymin}, xmax: {xmax}, ymax: {ymax}\")"
   ]
  },
  {
   "cell_type": "code",
   "execution_count": null,
   "id": "5ae1fd41-e425-4682-9ac8-bc5995ace292",
   "metadata": {},
   "outputs": [],
   "source": [
    "# If any value is NaN or Inf, raise an error or handle it\n",
    "if any(np.isnan([xmin, xmax, ymin, ymax])) or any(np.isinf([xmin, xmax, ymin, ymax])):\n",
    "    raise ValueError(\"Invalid bounding box values detected: NaN or Inf values in the extent.\")\n"
   ]
  },
  {
   "cell_type": "code",
   "execution_count": null,
   "id": "c75e066b-5871-4b19-a124-56d9134625b1",
   "metadata": {},
   "outputs": [],
   "source": [
    "# If the image is not already in a geographic projection (PlateCarree), we need to reproject it\n",
    "# Assuming the image is in a projected CRS like UTM, we need to transform it\n",
    "\n",
    "from pyproj import CRS"
   ]
  },
  {
   "cell_type": "code",
   "execution_count": null,
   "id": "4c845aed-2e2c-4e65-919b-d8634352d808",
   "metadata": {},
   "outputs": [],
   "source": [
    "# Open the satellite image and check its CRS\n",
    "with rio.open('data_files/NI_Mosaic.tif') as dataset:\n",
    "    img = dataset.read()\n",
    "    xmin, ymin, xmax, ymax = dataset.bounds\n",
    "    crs = dataset.crs  # Get the CRS of the image\n",
    "    print(\"Image CRS:\", crs)"
   ]
  },
  {
   "cell_type": "code",
   "execution_count": null,
   "id": "c29303c9-cf92-42a0-b461-dadd478ea1d0",
   "metadata": {},
   "outputs": [],
   "source": [
    "# Define the target CRS (geographic coordinates, PlateCarree)\n",
    "target_crs = CRS.from_epsg(4326)  # EPSG:4326 corresponds to WGS 84 (latitude/longitude)"
   ]
  },
  {
   "cell_type": "code",
   "execution_count": null,
   "id": "98bbfa28-fa7d-4e57-a92b-f1c5d3037e48",
   "metadata": {},
   "outputs": [],
   "source": [
    "# If the current CRS is different, reproject the bounding box coordinates\n",
    "if crs != target_crs:\n",
    "    from pyproj import Transformer\n",
    "    \n",
    "    transformer = Transformer.from_crs(crs, target_crs, always_xy=True)\n",
    "    xmin, ymin = transformer.transform(xmin, ymin)\n",
    "    xmax, ymax = transformer.transform(xmax, ymax)"
   ]
  },
  {
   "cell_type": "code",
   "execution_count": null,
   "id": "a2474c50-dbcc-45e4-9b2c-a2e5c3e2ee1d",
   "metadata": {},
   "outputs": [],
   "source": [
    "# Check the transformed coordinates\n",
    "print(f\"Reprojected Bounds: xmin: {xmin}, ymin: {ymin}, xmax: {xmax}, ymax: {ymax}\")"
   ]
  },
  {
   "cell_type": "code",
   "execution_count": null,
   "id": "031d9e15-2403-48ab-b7fd-8272a1915350",
   "metadata": {},
   "outputs": [],
   "source": [
    "# Create the figure and axis objects with Cartopy projection\n",
    "fig, ax = plt.subplots(figsize=(10, 10), dpi=100, subplot_kw={'projection': ccrs.PlateCarree()})"
   ]
  },
  {
   "cell_type": "code",
   "execution_count": null,
   "id": "11fa4967-74f8-49b8-879e-8cb81b0c40eb",
   "metadata": {},
   "outputs": [],
   "source": [
    "# Set the extent of the map using the reprojected bounding box values\n",
    "ax.set_extent([xmin, xmax, ymin, ymax], crs=ccrs.PlateCarree())"
   ]
  },
  {
   "cell_type": "code",
   "execution_count": null,
   "id": "d324f8a9-a0a8-459c-97ed-388a1d6145ca",
   "metadata": {},
   "outputs": [],
   "source": [
    "# Proceed with adding features like satellite image, county boundaries, etc.\n",
    "img_display(img, ax, bands=[0, 1, 2], stretch_args={'pmin': 2, 'pmax': 98})"
   ]
  },
  {
   "cell_type": "code",
   "execution_count": null,
   "id": "5127aec9-f9c0-450c-b8da-699c8362e13e",
   "metadata": {},
   "outputs": [],
   "source": [
    "# Add the county boundaries\n",
    "counties_feature = ShapelyFeature(counties.geometry, ccrs.PlateCarree(), edgecolor='red', facecolor='none', linewidth=2)\n",
    "ax.add_feature(counties_feature)"
   ]
  },
  {
   "cell_type": "code",
   "execution_count": null,
   "id": "088fcaec-8aed-4fbc-920c-1acaeaea25db",
   "metadata": {},
   "outputs": [],
   "source": [
    "# Add the town points as blue squares\n",
    "ax.scatter(towns.geometry.x, towns.geometry.y, color='blue', s=100, label='Town')"
   ]
  },
  {
   "cell_type": "code",
   "execution_count": null,
   "id": "c5c23bd0-0bd4-40bd-8baf-b1c04e2618b4",
   "metadata": {},
   "outputs": [],
   "source": [
    "# Add gridlines for reference\n",
    "ax.gridlines(draw_labels=True)"
   ]
  },
  {
   "cell_type": "code",
   "execution_count": null,
   "id": "a6f3d39e-6795-49db-9c04-5af8d5e01ac0",
   "metadata": {},
   "outputs": [],
   "source": [
    "# Save the map to a file\n",
    "plt.savefig('output_map.png', dpi=300)\n",
    "plt.show()"
   ]
  },
  {
   "cell_type": "code",
   "execution_count": null,
   "id": "b03948ac-505f-4529-b7b7-1affa4c8f586",
   "metadata": {},
   "outputs": [],
   "source": []
  }
 ],
 "metadata": {
  "kernelspec": {
   "display_name": "Python 3 (ipykernel)",
   "language": "python",
   "name": "python3"
  },
  "language_info": {
   "codemirror_mode": {
    "name": "ipython",
    "version": 3
   },
   "file_extension": ".py",
   "mimetype": "text/x-python",
   "name": "python",
   "nbconvert_exporter": "python",
   "pygments_lexer": "ipython3",
   "version": "3.13.2"
  }
 },
 "nbformat": 4,
 "nbformat_minor": 5
}
