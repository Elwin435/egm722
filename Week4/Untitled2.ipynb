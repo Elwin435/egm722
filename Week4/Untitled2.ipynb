{
 "cells": [
  {
   "cell_type": "code",
   "execution_count": null,
   "id": "0140119d-f63e-424d-9940-eeb6072d7d34",
   "metadata": {},
   "outputs": [],
   "source": [
    "import numpy as np\n",
    "import rasterio as rio\n",
    "import geopandas as gpd\n",
    "import cartopy.crs as ccrs\n",
    "import matplotlib.pyplot as plt\n",
    "from pyproj import CRS, Transformer\n",
    "from shapely.geometry import Polygon\n",
    "from cartopy.feature import ShapelyFeature\n",
    "import matplotlib.patches as mpatches"
   ]
  },
  {
   "cell_type": "code",
   "execution_count": null,
   "id": "a64f98b0-fab8-4d69-abb5-7772b675f0e5",
   "metadata": {},
   "outputs": [],
   "source": [
    "# Function to stretch the image values based on percentiles\n",
    "def percentile_stretch(img, pmin=0., pmax=100.):\n",
    "    '''\n",
    "    Stretch image values to the percentile range defined by pmin and pmax.\n",
    "    '''\n",
    "    if not 0 <= pmin < pmax <= 100:\n",
    "        raise ValueError('0 <= pmin < pmax <= 100')\n",
    "    if not img.ndim == 2:\n",
    "        raise ValueError('Image can only have two dimensions (row, column)')\n",
    "\n",
    "    minval = np.percentile(img, pmin)\n",
    "    maxval = np.percentile(img, pmax)\n",
    "\n",
    "    stretched = (img - minval) / (maxval - minval)\n",
    "    stretched[img < minval] = 0\n",
    "    stretched[img > maxval] = 1\n",
    "\n",
    "    return stretched"
   ]
  },
  {
   "cell_type": "code",
   "execution_count": null,
   "id": "44259131-bd32-4133-88b0-b614030e0dda",
   "metadata": {},
   "outputs": [],
   "source": [
    "# Function to display the image with optional stretch parameters for each band\n",
    "def img_display(img, ax, bands, stretch_args=None, **imshow_args):\n",
    "    '''\n",
    "    Display the image with optional stretch parameters for each band.\n",
    "    '''\n",
    "    dispimg = img.copy().astype(np.float32)\n",
    "\n",
    "    for b in range(img.shape[0]):\n",
    "        if stretch_args is None:\n",
    "            dispimg[b] = percentile_stretch(img[b])\n",
    "        else:\n",
    "            dispimg[b] = percentile_stretch(img[b], **stretch_args)\n",
    "\n",
    "    dispimg = dispimg.transpose([1, 2, 0])\n",
    "    handle = ax.imshow(dispimg[:, :, bands], **imshow_args)\n",
    "\n",
    "    return handle, ax"
   ]
  },
  {
   "cell_type": "code",
   "execution_count": null,
   "id": "8e7de5f9-3aaa-4f94-9759-d5c2028d4ae8",
   "metadata": {},
   "outputs": [],
   "source": [
    "# Open the satellite image and check its CRS\n",
    "with rio.open('data_files/NI_Mosaic.tif') as dataset:\n",
    "    img = dataset.read()  # Read image\n",
    "    xmin, ymin, xmax, ymax = dataset.bounds  # Get image bounds\n",
    "    crs = dataset.crs  # Get the CRS of the image\n",
    "    print(f\"Image CRS: {crs}\")\n",
    "    print(f\"Image Bounds: xmin: {xmin}, ymin: {ymin}, xmax: {xmax}, ymax: {ymax}\")\n"
   ]
  },
  {
   "cell_type": "code",
   "execution_count": null,
   "id": "3115cd7b-c761-4254-8e73-ff53a1998c1d",
   "metadata": {},
   "outputs": [],
   "source": [
    "# Define the target CRS (geographic coordinates, PlateCarree)\n",
    "target_crs = CRS.from_epsg(4326)  # WGS 84 (latitude/longitude)\n"
   ]
  },
  {
   "cell_type": "code",
   "execution_count": null,
   "id": "0790199e-26a6-4b73-86a2-97e660d5b6a5",
   "metadata": {},
   "outputs": [],
   "source": [
    "# If the current CRS is different, reproject the bounding box coordinates\n",
    "if crs != target_crs:\n",
    "    transformer = Transformer.from_crs(crs, target_crs, always_xy=True)\n",
    "    xmin, ymin = transformer.transform(xmin, ymin)\n",
    "    xmax, ymax = transformer.transform(xmax, ymax)"
   ]
  },
  {
   "cell_type": "code",
   "execution_count": null,
   "id": "cc9008e0-ac75-40a0-8770-e0a87704ee56",
   "metadata": {},
   "outputs": [],
   "source": [
    "# Check the transformed coordinates\n",
    "print(f\"Reprojected Bounds: xmin: {xmin}, ymin: {ymin}, xmax: {xmax}, ymax: {ymax}\")"
   ]
  },
  {
   "cell_type": "code",
   "execution_count": null,
   "id": "4ae30c3c-6827-4449-a317-b0d5ef27bfa7",
   "metadata": {},
   "outputs": [],
   "source": [
    "# Load the shapefiles for county boundaries, towns, and the NI outline\n",
    "counties = gpd.read_file('data_files/counties.shp')\n",
    "towns = gpd.read_file('data_files/towns.shp')\n",
    "boundaries = gpd.read_file('data_files/NI_outline.shp')"
   ]
  },
  {
   "cell_type": "code",
   "execution_count": null,
   "id": "24db5871-6aad-4ed0-ab50-6c23a1663646",
   "metadata": {},
   "outputs": [],
   "source": [
    "# Create the figure and axis objects with Cartopy projection\n",
    "fig, ax = plt.subplots(figsize=(10, 10), dpi=100, subplot_kw={'projection': ccrs.PlateCarree()})"
   ]
  },
  {
   "cell_type": "code",
   "execution_count": null,
   "id": "1bfb5b4b-9309-4955-9dc0-25d7e26f0bb3",
   "metadata": {},
   "outputs": [],
   "source": [
    "# Set the extent of the map using the reprojected bounding box values\n",
    "ax.set_extent([xmin, xmax, ymin, ymax], crs=ccrs.PlateCarree())"
   ]
  },
  {
   "cell_type": "code",
   "execution_count": null,
   "id": "fc970fdc-c8a0-4940-8171-1b4923f48fe4",
   "metadata": {},
   "outputs": [],
   "source": [
    "# Add the NI outline (shapefile)\n",
    "boundaries_feature = ShapelyFeature(boundaries.geometry, ccrs.PlateCarree(), edgecolor='black', facecolor='none', linewidth=2)\n",
    "ax.add_feature(boundaries_feature)\n"
   ]
  },
  {
   "cell_type": "code",
   "execution_count": null,
   "id": "52ec78b0-e683-4fd1-9069-e5132ba612b1",
   "metadata": {},
   "outputs": [],
   "source": [
    "# Add county boundaries\n",
    "counties_feature = ShapelyFeature(counties.geometry, ccrs.PlateCarree(), edgecolor='red', facecolor='none', linewidth=2)\n",
    "ax.add_feature(counties_feature)"
   ]
  },
  {
   "cell_type": "code",
   "execution_count": null,
   "id": "49ba7721-b001-4054-ba5e-b716e273b109",
   "metadata": {},
   "outputs": [],
   "source": [
    "# Add town points (blue squares)\n",
    "ax.scatter(towns.geometry.x, towns.geometry.y, color='blue', s=100, label='Town', marker='s')\n"
   ]
  },
  {
   "cell_type": "code",
   "execution_count": null,
   "id": "c3699170-20f4-4678-807a-7a27c3a7110f",
   "metadata": {},
   "outputs": [],
   "source": [
    "# Add gridlines for reference\n",
    "ax.gridlines(draw_labels=True)"
   ]
  },
  {
   "cell_type": "code",
   "execution_count": null,
   "id": "28ccf928-5767-44ab-aadc-44637214eed3",
   "metadata": {},
   "outputs": [],
   "source": [
    "# Add a legend\n",
    "ax.legend(loc='upper left')"
   ]
  },
  {
   "cell_type": "code",
   "execution_count": null,
   "id": "fd9f87d5-ad5d-4d1f-8c1a-22db45670a41",
   "metadata": {},
   "outputs": [],
   "source": [
    "# Check if the image is visible\n",
    "if img is not None:\n",
    "    # Display the satellite image\n",
    "    img_display(img, ax, bands=[0, 1, 2], stretch_args={'pmin': 2, 'pmax': 98})"
   ]
  },
  {
   "cell_type": "code",
   "execution_count": null,
   "id": "c0902488-f7d6-4dff-ba8a-7e4e5d46f75c",
   "metadata": {},
   "outputs": [],
   "source": [
    "# Save the figure to a file before showing it (to ensure the content is saved)\n",
    "plt.savefig('output_map.png', dpi=300, transparent=True)"
   ]
  },
  {
   "cell_type": "code",
   "execution_count": null,
   "id": "1c057ecf-ad70-4da0-8782-e9f5cd5ce07b",
   "metadata": {},
   "outputs": [],
   "source": [
    "# Show the map\n",
    "plt.show()"
   ]
  },
  {
   "cell_type": "code",
   "execution_count": null,
   "id": "22c5c454-b4d7-419f-a07f-b387e32bd404",
   "metadata": {},
   "outputs": [],
   "source": [
    "fig"
   ]
  },
  {
   "cell_type": "code",
   "execution_count": null,
   "id": "c7d35009-4738-45ce-add2-b7e64dc3d0d2",
   "metadata": {},
   "outputs": [],
   "source": []
  }
 ],
 "metadata": {
  "kernelspec": {
   "display_name": "Python 3 (ipykernel)",
   "language": "python",
   "name": "python3"
  },
  "language_info": {
   "codemirror_mode": {
    "name": "ipython",
    "version": 3
   },
   "file_extension": ".py",
   "mimetype": "text/x-python",
   "name": "python",
   "nbconvert_exporter": "python",
   "pygments_lexer": "ipython3",
   "version": "3.13.2"
  }
 },
 "nbformat": 4,
 "nbformat_minor": 5
}
