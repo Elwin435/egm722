{
 "cells": [
  {
   "cell_type": "code",
   "execution_count": null,
   "id": "46f14ff6-1136-4615-bcca-f708ef0b7709",
   "metadata": {},
   "outputs": [],
   "source": [
    "import numpy as np\n",
    "import rasterio as rio\n",
    "import geopandas as gpd\n",
    "import cartopy.crs as ccrs\n",
    "import matplotlib.pyplot as plt\n",
    "from pyproj import CRS, Transformer\n",
    "from shapely.geometry import Polygon\n",
    "from cartopy.feature import ShapelyFeature\n",
    "\n",
    "# Function to stretch the image values based on percentiles\n",
    "def percentile_stretch(img, pmin=0., pmax=100.):\n",
    "    '''\n",
    "    Stretch image values to the percentile range defined by pmin and pmax.\n",
    "    '''\n",
    "    if not 0 <= pmin < pmax <= 100:\n",
    "        raise ValueError('0 <= pmin < pmax <= 100')\n",
    "    if not img.ndim == 2:\n",
    "        raise ValueError('Image can only have two dimensions (row, column)')\n",
    "\n",
    "    minval = np.percentile(img, pmin)\n",
    "    maxval = np.percentile(img, pmax)\n",
    "\n",
    "    stretched = (img - minval) / (maxval - minval)\n",
    "    stretched[img < minval] = 0\n",
    "    stretched[img > maxval] = 1\n",
    "\n",
    "    return stretched\n",
    "\n",
    "# Function to display the image with optional stretch parameters for each band\n",
    "def img_display(img, ax, bands, stretch_args=None, **imshow_args):\n",
    "    '''\n",
    "    Display the image with optional stretch parameters for each band.\n",
    "    '''\n",
    "    dispimg = img.copy().astype(np.float32)\n",
    "\n",
    "    for b in range(img.shape[0]):\n",
    "        if stretch_args is None:\n",
    "            dispimg[b] = percentile_stretch(img[b])\n",
    "        else:\n",
    "            dispimg[b] = percentile_stretch(img[b], **stretch_args)\n",
    "\n",
    "    dispimg = dispimg.transpose([1, 2, 0])\n",
    "    handle = ax.imshow(dispimg[:, :, bands], **imshow_args)\n",
    "\n",
    "    return handle, ax"
   ]
  },
  {
   "cell_type": "code",
   "execution_count": null,
   "id": "dc28487e-c6fe-47a2-9c03-8f689003fdec",
   "metadata": {},
   "outputs": [],
   "source": [
    "dataset = rio.open('data_files/NI_Mosaic.tif')\n",
    "\n",
    "print('{} opened in {} mode'.format(dataset.name,dataset.mode))\n",
    "print('image has {} band(s)'.format(dataset.count))\n",
    "print('image size (width, height): {} x {}'.format(dataset.width, dataset.height))\n",
    "print('band 1 dataype is {}'.format(dataset.dtypes[0])) # note that the band name (Band 1) differs from the list index [0]"
   ]
  },
  {
   "cell_type": "code",
   "execution_count": null,
   "id": "78997b13-3d7d-432a-bd4b-e84aae264ea6",
   "metadata": {},
   "outputs": [],
   "source": [
    "dataset = rio.open('data_files/NI_Mosaic.tif')\n",
    "\n",
    "print('{} opened in {} mode'.format(dataset.name,dataset.mode))\n",
    "print('image has {} band(s)'.format(dataset.count))\n",
    "print('image size (width, height): {} x {}'.format(dataset.width, dataset.height))\n",
    "print('band 1 dataype is {}'.format(dataset.dtypes[0])) # note that the band name (Band 1) differs from the list index [0]"
   ]
  },
  {
   "cell_type": "code",
   "execution_count": null,
   "id": "ad535d5c-95de-4b76-b629-33ae94764451",
   "metadata": {},
   "outputs": [],
   "source": [
    "print(dataset.bounds)"
   ]
  },
  {
   "cell_type": "code",
   "execution_count": null,
   "id": "f2cfcb7e-5506-4e1f-84bf-b9d1b7da8eff",
   "metadata": {},
   "outputs": [],
   "source": [
    "print(dataset.crs)"
   ]
  },
  {
   "cell_type": "code",
   "execution_count": null,
   "id": "80885fa7-82d4-4d47-bdd3-10852f5394e8",
   "metadata": {},
   "outputs": [],
   "source": [
    "# Open the satellite image and check its CRS\n",
    "with rio.open('data_files/NI_Mosaic.tif') as dataset:\n",
    "    img = dataset.read()  # Read image\n",
    "    xmin, ymin, xmax, ymax = dataset.bounds  # Get image bounds\n",
    "    crs = dataset.crs  # Get the CRS of the image\n",
    "    print(f\"Image CRS: {crs}\")\n",
    "    print(f\"Image Bounds: xmin: {xmin}, ymin: {ymin}, xmax: {xmax}, ymax: {ymax}\")\n",
    "\n",
    "# Define the target CRS (geographic coordinates, PlateCarree)\n",
    "target_crs = CRS.from_epsg(4326)  # WGS 84 (latitude/longitude)\n",
    "\n",
    "# If the current CRS is different, reproject the bounding box coordinates\n",
    "if crs != target_crs:\n",
    "    transformer = Transformer.from_crs(crs, target_crs, always_xy=True)\n",
    "    xmin, ymin = transformer.transform(xmin, ymin)\n",
    "    xmax, ymax = transformer.transform(xmax, ymax)\n",
    "\n",
    "# Check the transformed coordinates\n",
    "print(f\"Reprojected Bounds: xmin: {xmin}, ymin: {ymin}, xmax: {xmax}, ymax: {ymax}\")"
   ]
  },
  {
   "cell_type": "code",
   "execution_count": null,
   "id": "b6d10fb3-cacc-4286-a640-1850cbe82a49",
   "metadata": {},
   "outputs": [],
   "source": [
    "# Load the shapefiles for county boundaries, towns, and the NI outline\n",
    "counties = gpd.read_file('data_files/counties.shp')\n",
    "towns = gpd.read_file('data_files/towns.shp')\n",
    "boundaries = gpd.read_file('data_files/NI_outline.shp')"
   ]
  },
  {
   "cell_type": "code",
   "execution_count": null,
   "id": "d4fdb585-f6fd-4844-800d-404fd9aab600",
   "metadata": {},
   "outputs": [],
   "source": [
    "ni_utm = ccrs.UTM(29) # note that this matches with the CRS of our image\n",
    "fig, ax = plt.subplots(1, 1, figsize=(10, 10), subplot_kw=dict(projection=ni_utm))"
   ]
  },
  {
   "cell_type": "code",
   "execution_count": null,
   "id": "b574d392-d577-4c7b-934f-68f826b2f4bf",
   "metadata": {},
   "outputs": [],
   "source": [
    "ni_utm = ccrs.UTM(29) # note that this matches with the CRS of our image\n",
    "fig, ax = plt.subplots(1, 1, figsize=(10, 10), subplot_kw=dict(projection=ni_utm))"
   ]
  },
  {
   "cell_type": "code",
   "execution_count": null,
   "id": "af16b83b-9eb4-4226-bbea-91c08ecaf3f2",
   "metadata": {},
   "outputs": [],
   "source": [
    "ax.imshow(img[3], cmap='gray', vmin=200, vmax=5000) # display band 4 as a grayscale image, stretched between 200 and 5000\n",
    "ax.set_extent([xmin, xmax, ymin, ymax], crs=ni_utm) # set the extent to the image boundary\n",
    "\n",
    "fig # show the figure"
   ]
  },
  {
   "cell_type": "code",
   "execution_count": null,
   "id": "57df2f72-6868-4ea2-b1a6-9467aea0cb57",
   "metadata": {},
   "outputs": [],
   "source": [
    "ax.imshow(img[3], cmap='gray', vmin=200, vmax=5000, transform=ni_utm, extent=[xmin, xmax, ymin, ymax])\n",
    "ax.set_extent([xmin, xmax, ymin, ymax], crs=ni_utm) # set the extent to the image boundary\n",
    "\n",
    "fig"
   ]
  },
  {
   "cell_type": "code",
   "execution_count": null,
   "id": "f226af97-f773-4e79-b7f0-2468053caec2",
   "metadata": {},
   "outputs": [],
   "source": [
    "def img_display(image, ax, bands, transform, extent):\n",
    "    '''\n",
    "    This is where you should write a docstring.\n",
    "    '''\n",
    "    # first, we transpose the image to re-order the indices\n",
    "    dispimg = image.transpose([1, 2, 0])\n",
    "    \n",
    "    # next, we have to scale the image.\n",
    "    dispimg = dispimg / dispimg.max()\n",
    "    \n",
    "    # finally, we display the image\n",
    "    handle = ax.imshow(dispimg[:, :, bands], transform=transform, extent=extent)\n",
    "    \n",
    "    return handle, ax"
   ]
  },
  {
   "cell_type": "code",
   "execution_count": null,
   "id": "0e523d38-319e-4502-90a0-a638081f498d",
   "metadata": {},
   "outputs": [],
   "source": [
    "h, ax = img_display(img, ax, [2, 1, 0], ni_utm, [xmin, xmax, ymin, ymax])\n",
    "fig # just to save you from scrolling back up to see"
   ]
  },
  {
   "cell_type": "code",
   "execution_count": null,
   "id": "a0a6141c-03de-422a-abde-cdee400449b4",
   "metadata": {},
   "outputs": [],
   "source": [
    "def percentile_stretch(image, pmin=0., pmax=100.):\n",
    "    '''\n",
    "    This is where you should write a docstring.\n",
    "    '''\n",
    "    # here, we make sure that pmin < pmax, and that they are between 0, 100\n",
    "    if not 0 <= pmin < pmax <= 100:\n",
    "        raise ValueError('0 <= pmin < pmax <= 100')\n",
    "    # here, we make sure that the image is only 2-dimensional\n",
    "    if not image.ndim == 2:\n",
    "        raise ValueError('Image can only have two dimensions (row, column)')\n",
    "    \n",
    "    minval = np.percentile(image, pmin)\n",
    "    maxval = np.percentile(image, pmax)\n",
    "    \n",
    "    stretched = (image - minval) / (maxval - minval) # stretch the image to 0, 1\n",
    "    stretched[image < minval] = 0 # set anything less than minval to the new minimum, 0.\n",
    "    stretched[image > maxval] = 1 # set anything greater than maxval to the new maximum, 1.\n",
    "    \n",
    "    return stretched"
   ]
  },
  {
   "cell_type": "code",
   "execution_count": null,
   "id": "1f9f5ba6-b4a6-4f31-b414-683e1479b1a1",
   "metadata": {},
   "outputs": [],
   "source": [
    "def img_display(image, ax, bands, transform, extent, pmin=0, pmax=100):\n",
    "    '''\n",
    "    This is where you should write a docstring.\n",
    "    '''\n",
    "    dispimg = image.copy().astype(np.float32) # make a copy of the original image,\n",
    "    # but be sure to cast it as a floating-point image, rather than an integer\n",
    "\n",
    "    for b in range(image.shape[0]): # loop over each band, stretching using percentile_stretch()\n",
    "        dispimg[b] = percentile_stretch(image[b], pmin=pmin, pmax=pmax)\n",
    "\n",
    "    # next, we transpose the image to re-order the indices\n",
    "    dispimg = dispimg.transpose([1, 2, 0])\n",
    "    \n",
    "    # finally, we display the image\n",
    "    handle = ax.imshow(dispimg[:, :, bands], transform=transform, extent=extent)\n",
    "    \n",
    "    return handle, ax"
   ]
  },
  {
   "cell_type": "code",
   "execution_count": null,
   "id": "845ad29d-0436-4941-bddd-9e880034afba",
   "metadata": {},
   "outputs": [],
   "source": [
    "h, ax = img_display(img, ax, [2, 1, 0], ni_utm, [xmin, xmax, ymin, ymax], pmin=0.1, pmax=99.9)\n",
    "fig # just to save you from scrolling back up to see"
   ]
  },
  {
   "cell_type": "code",
   "execution_count": null,
   "id": "f7c65d6f-2fd2-4557-aeef-cddef0e05da0",
   "metadata": {},
   "outputs": [],
   "source": [
    "def new_img_display(image, ax, bands, stretch_args=[0, 100], **imshow_args):\n",
    "    '''\n",
    "    This is where you should write a docstring.\n",
    "    '''\n",
    "    dispimg = image.copy().astype(np.float32) # make a copy of the original image,\n",
    "    # but be sure to cast it as a floating-point image, rather than an integer\n",
    "\n",
    "    for b in range(image.shape[0]): # loop over each band, stretching using percentile_stretch()\n",
    "        dispimg[b] = percentile_stretch(image[b], *stretch_args) # pass the iterable stretch_args, but unpack them when calling percentile_stretch\n",
    "\n",
    "    # next, we transpose the image to re-order the indices\n",
    "    dispimg = dispimg.transpose([1, 2, 0])\n",
    "    \n",
    "    # finally, we display the image\n",
    "    handle = ax.imshow(dispimg[:, :, bands], **imshow_args)\n",
    "    \n",
    "    return handle, ax"
   ]
  },
  {
   "cell_type": "code",
   "execution_count": null,
   "id": "4e51a78b-da89-4289-9919-7833311fec94",
   "metadata": {},
   "outputs": [],
   "source": [
    "disp_kwargs = {'extent': [xmin, xmax, ymin, ymax],\n",
    "               'transform': ni_utm}\n",
    "\n",
    "stretch = [0.1, 99.9] # a list of percentile values\n",
    "\n",
    "h, ax = new_img_display(img, ax, [2, 1, 0], stretch_args=stretch, **disp_kwargs)\n",
    "fig"
   ]
  },
  {
   "cell_type": "code",
   "execution_count": null,
   "id": "04084eaa-64bb-4960-95d5-89e5d307b8d3",
   "metadata": {},
   "outputs": [],
   "source": [
    "# write your code here!\n",
    "gridlines = ax.gridlines(draw_labels=True, # draw  labels for the grid lines\n",
    "                         xlocs=[-8, -7.5, -7, -6.5, -6, -5.5], # add longitude lines at 0.5 deg intervals\n",
    "                         ylocs=[54, 54.5, 55, 55.5]) # add latitude lines at 0.5 deg intervals\n",
    "gridlines.left_labels = False # turn off the left-side labels\n",
    "gridlines.bottom_labels = False # turn off the bottom labels\n"
   ]
  },
  {
   "cell_type": "code",
   "execution_count": null,
   "id": "f4100775-8f8b-44c4-853b-459984dfe3af",
   "metadata": {},
   "outputs": [],
   "source": [
    "# Load the shapefiles for county boundaries, towns, and the NI outline\n",
    "counties = gpd.read_file('data_files/counties.shp')\n",
    "towns = gpd.read_file('data_files/towns.shp')\n",
    "boundaries = gpd.read_file('data_files/NI_outline.shp')\n",
    "\n",
    "# Create the figure and axis objects with Cartopy projection\n",
    "fig, ax = plt.subplots(figsize=(10, 10), dpi=100, subplot_kw={'projection': ccrs.PlateCarree()})\n",
    "\n",
    "# Set the extent of the map using the reprojected bounding box values\n",
    "ax.set_extent([xmin, xmax, ymin, ymax], crs=ccrs.PlateCarree())\n",
    "\n",
    "# Add the NI outline (shapefile)\n",
    "boundaries_feature = ShapelyFeature(boundaries.geometry, ccrs.PlateCarree(), edgecolor='black', facecolor='none', linewidth=2)\n",
    "ax.add_feature(boundaries_feature)\n",
    "\n",
    "# Add county boundaries\n",
    "counties_feature = ShapelyFeature(counties.geometry, ccrs.PlateCarree(), edgecolor='red', facecolor='none', linewidth=2)\n",
    "ax.add_feature(counties_feature)\n",
    "\n",
    "# Add town points (blue squares)\n",
    "ax.scatter(towns.geometry.x, towns.geometry.y, color='blue', s=100, label='Town', marker='s')"
   ]
  },
  {
   "cell_type": "code",
   "execution_count": null,
   "id": "1511e946-8168-42b8-b93e-56a05612652e",
   "metadata": {},
   "outputs": [],
   "source": []
  }
 ],
 "metadata": {
  "kernelspec": {
   "display_name": "Python 3 (ipykernel)",
   "language": "python",
   "name": "python3"
  },
  "language_info": {
   "codemirror_mode": {
    "name": "ipython",
    "version": 3
   },
   "file_extension": ".py",
   "mimetype": "text/x-python",
   "name": "python",
   "nbconvert_exporter": "python",
   "pygments_lexer": "ipython3",
   "version": "3.13.2"
  }
 },
 "nbformat": 4,
 "nbformat_minor": 5
}
