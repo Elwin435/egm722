{
 "cells": [
  {
   "cell_type": "code",
   "execution_count": null,
   "id": "df1eb944-330e-4215-91cb-db960a983fac",
   "metadata": {},
   "outputs": [],
   "source": [
    "import geopandas as gpd\n",
    "import matplotlib.pyplot as plt\n",
    "from mpl_toolkits.axes_grid1 import make_axes_locatable\n",
    "from cartopy.feature import ShapelyFeature\n",
    "import cartopy.crs as ccrs\n",
    "import matplotlib.patches as mpatches"
   ]
  },
  {
   "cell_type": "code",
   "execution_count": null,
   "id": "58b39061-b838-443a-9209-84525f201681",
   "metadata": {},
   "outputs": [],
   "source": [
    "# Load the counties and wards data\n",
    "counties = gpd.read_file('data_files/Counties.shp')\n",
    "wards = gpd.read_file('data_files/NI_Wards.shp')\n",
    "\n",
    "# Ensure both datasets are in the same projection (UTM projection for consistency)\n",
    "wards = wards.to_crs(epsg=32629)\n",
    "counties = counties.to_crs(epsg=32629)"
   ]
  },
  {
   "cell_type": "code",
   "execution_count": null,
   "id": "e89c9d1d-e90f-4c24-aa5a-51208b8d0263",
   "metadata": {},
   "outputs": [],
   "source": [
    "# Perform spatial join to associate wards with counties\n",
    "wards_county = gpd.sjoin(wards, counties, how='inner', predicate='intersects')"
   ]
  },
  {
   "cell_type": "code",
   "execution_count": null,
   "id": "05974fbe-96af-4b25-957e-585c3c643e52",
   "metadata": {},
   "outputs": [],
   "source": [
    "# Summarize total population by county\n",
    "population_by_county = wards_county.groupby('CountyName')['Population'].sum().reset_index()"
   ]
  },
  {
   "cell_type": "code",
   "execution_count": null,
   "id": "323381de-307d-4af4-9b59-9b25c853f926",
   "metadata": {},
   "outputs": [],
   "source": [
    "# Print county with highest and lowest population\n",
    "max_county = population_by_county.loc[population_by_county['Population'].idxmax()]\n",
    "min_county = population_by_county.loc[population_by_county['Population'].idxmin()]"
   ]
  },
  {
   "cell_type": "code",
   "execution_count": null,
   "id": "7f50823e-39a6-4f8b-aced-a8b085a8756c",
   "metadata": {},
   "outputs": [],
   "source": [
    "print(\"County with highest population: {} - {} residents\".format(max_county['CountyName'], max_county['Population']))\n",
    "print(\"County with lowest population: {} - {} residents\".format(min_county['CountyName'], min_county['Population']))\n"
   ]
  },
  {
   "cell_type": "code",
   "execution_count": null,
   "id": "850c884e-e712-484f-9e22-3b8d83e57c42",
   "metadata": {},
   "outputs": [],
   "source": [
    "# Create the map\n",
    "ni_utm = ccrs.UTM(29)\n",
    "\n",
    "fig, ax = plt.subplots(1, 1, figsize=(10, 10), subplot_kw=dict(projection=ni_utm))"
   ]
  },
  {
   "cell_type": "code",
   "execution_count": null,
   "id": "3a4398ba-5788-4071-be83-d6dbbcf58ed7",
   "metadata": {},
   "outputs": [],
   "source": [
    "# Add gridlines\n",
    "gridlines = ax.gridlines(draw_labels=True, xlocs=[-8, -7.5, -7, -6.5, -6, -5.5], ylocs=[54, 54.5, 55, 55.5])\n",
    "gridlines.right_labels = False\n",
    "gridlines.bottom_labels = False\n"
   ]
  },
  {
   "cell_type": "code",
   "execution_count": null,
   "id": "d8003df1-c7b2-46d7-a1d8-bf476c63a8cb",
   "metadata": {},
   "outputs": [],
   "source": [
    "# Add colorbar for population\n",
    "divider = make_axes_locatable(ax)\n",
    "cax = divider.append_axes(\"right\", size=\"5%\", pad=0.1, axes_class=plt.Axes)\n"
   ]
  },
  {
   "cell_type": "code",
   "execution_count": null,
   "id": "50e03a13-eacb-465d-bb47-860c5e4411e7",
   "metadata": {},
   "outputs": [],
   "source": [
    "# Plot the ward population data\n",
    "ward_plot = wards.plot(column='Population', ax=ax, vmin=1000, vmax=8000, cmap='viridis',\n",
    "                       legend=True, cax=cax, legend_kwds={'label': 'Resident Population'})\n"
   ]
  },
  {
   "cell_type": "code",
   "execution_count": null,
   "id": "f25ada8c-5b32-43f7-af7a-9cce56ba4b59",
   "metadata": {},
   "outputs": [],
   "source": [
    "# Add county boundaries in red\n",
    "county_outlines = ShapelyFeature(counties['geometry'], ni_utm, edgecolor='r', facecolor='none')\n",
    "ax.add_feature(county_outlines)"
   ]
  },
  {
   "cell_type": "code",
   "execution_count": null,
   "id": "90bf4fc7-ff3b-45ed-9447-bd8e3e0a615a",
   "metadata": {},
   "outputs": [],
   "source": [
    "# Function to generate legend handles\n",
    "def generate_handles(labels, colors, edge='k'):\n",
    "    return [mpatches.Patch(facecolor=color, edgecolor=edge, label=label) for label, color in zip(labels, colors)]\n",
    "\n",
    "county_handles = generate_handles([''], ['none'], edge='r')"
   ]
  },
  {
   "cell_type": "code",
   "execution_count": null,
   "id": "e2c551fb-a439-4e5b-ac2d-9515e09596d4",
   "metadata": {},
   "outputs": [],
   "source": [
    "# Add a legend for county boundaries\n",
    "ax.legend(county_handles, ['County Boundaries'], fontsize=12, loc='upper left', framealpha=1)"
   ]
  },
  {
   "cell_type": "code",
   "execution_count": null,
   "id": "949c6410-8d1f-491a-939f-110ac917df70",
   "metadata": {},
   "outputs": [],
   "source": [
    "# Save the map\n",
    "fig.savefig('population_map.png', dpi=300, bbox_inches='tight')"
   ]
  },
  {
   "cell_type": "code",
   "execution_count": null,
   "id": "9fe1dbb5-456b-4fb1-8d09-846f566a80ef",
   "metadata": {},
   "outputs": [],
   "source": [
    "print(\"Map saved as population_map.png\")"
   ]
  },
  {
   "cell_type": "code",
   "execution_count": null,
   "id": "eef1c1b6-9ab8-442b-93a4-23f168aa443e",
   "metadata": {},
   "outputs": [],
   "source": []
  }
 ],
 "metadata": {
  "kernelspec": {
   "display_name": "Python 3 (ipykernel)",
   "language": "python",
   "name": "python3"
  },
  "language_info": {
   "codemirror_mode": {
    "name": "ipython",
    "version": 3
   },
   "file_extension": ".py",
   "mimetype": "text/x-python",
   "name": "python",
   "nbconvert_exporter": "python",
   "pygments_lexer": "ipython3",
   "version": "3.13.2"
  }
 },
 "nbformat": 4,
 "nbformat_minor": 5
}
