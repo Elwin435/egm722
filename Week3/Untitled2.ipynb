{
 "cells": [
  {
   "cell_type": "code",
   "execution_count": null,
   "id": "62cdfa9e-ea57-4e7c-81e7-285c7bf63e11",
   "metadata": {},
   "outputs": [],
   "source": [
    "import geopandas as gpd\n",
    "import matplotlib.pyplot as plt\n",
    "from mpl_toolkits.axes_grid1 import make_axes_locatable\n",
    "from cartopy.feature import ShapelyFeature\n",
    "import cartopy.crs as ccrs\n",
    "import matplotlib.patches as mpatches"
   ]
  },
  {
   "cell_type": "code",
   "execution_count": null,
   "id": "9888f5fd-cb2c-4dfc-b884-a492c49c1c2c",
   "metadata": {},
   "outputs": [],
   "source": [
    "counties = gpd.read_file('data_files/Counties.shp')\n",
    "wards = gpd.read_file('data_files/Wards.shp')"
   ]
  },
  {
   "cell_type": "code",
   "execution_count": null,
   "id": "d7f4ed5a-ec92-4c91-a62c-d063f9128dc9",
   "metadata": {},
   "outputs": [],
   "source": [
    "import os\n",
    "\n",
    "print(os.listdir('data_files'))\n"
   ]
  },
  {
   "cell_type": "code",
   "execution_count": null,
   "id": "bafa427c-2ba3-4e80-9ebd-604ef5359230",
   "metadata": {},
   "outputs": [],
   "source": [
    "# Load the shapefiles with correct filenames\n",
    "counties = gpd.read_file('data_files/Counties.shp')\n",
    "wards = gpd.read_file('data_files/NI_Wards.shp')\n"
   ]
  },
  {
   "cell_type": "code",
   "execution_count": null,
   "id": "ac09e9b5-0fa1-4b1c-9e7e-884694b1683a",
   "metadata": {},
   "outputs": [],
   "source": [
    "print(counties.columns)\n"
   ]
  },
  {
   "cell_type": "code",
   "execution_count": null,
   "id": "7c332f9f-a26d-4b02-97b9-3359c68c4a7f",
   "metadata": {},
   "outputs": [],
   "source": []
  }
 ],
 "metadata": {
  "kernelspec": {
   "display_name": "Python 3 (ipykernel)",
   "language": "python",
   "name": "python3"
  },
  "language_info": {
   "codemirror_mode": {
    "name": "ipython",
    "version": 3
   },
   "file_extension": ".py",
   "mimetype": "text/x-python",
   "name": "python",
   "nbconvert_exporter": "python",
   "pygments_lexer": "ipython3",
   "version": "3.13.2"
  }
 },
 "nbformat": 4,
 "nbformat_minor": 5
}
